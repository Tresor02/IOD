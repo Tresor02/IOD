{
 "cells": [
  {
   "cell_type": "markdown",
   "metadata": {
    "id": "s8RoBuCkB_bW"
   },
   "source": [
    "<div>\n",
    "<img src=https://www.institutedata.com/wp-content/uploads/2019/10/iod_h_tp_primary_c.svg width=\"300\">\n",
    "</div>"
   ]
  },
  {
   "cell_type": "markdown",
   "metadata": {
    "id": "cW5QEs4PB_bY"
   },
   "source": [
    "# Lab 3.1.4\n",
    "# *Python with MongoDB*"
   ]
  },
  {
   "cell_type": "markdown",
   "metadata": {
    "id": "VjUpP-kFB_bb"
   },
   "source": [
    "## Introduction to PyMongo"
   ]
  },
  {
   "cell_type": "markdown",
   "metadata": {
    "id": "wj_xDQwGKbpL"
   },
   "source": [
    "For this lab you will firstly need to install two programs (both for Windows and Mac users). If using Windows download then run the `msi` package in both cases.\n",
    "\n",
    "1) MongoDB Community Server from https://www.mongodb.com/try/download/community\n",
    "\n",
    "2) MongoDB Command Line Database Tools from https://www.mongodb.com/try/download/database-tools"
   ]
  },
  {
   "cell_type": "markdown",
   "metadata": {
    "id": "BTMUSSJ76fK-"
   },
   "source": [
    "**Installation instructions for Windows users:**\n",
    "\n",
    "[Install MongoDB Community Edition on Windows](https://www.mongodb.com/docs/manual/tutorial/install-mongodb-on-windows/)"
   ]
  },
  {
   "cell_type": "markdown",
   "metadata": {
    "id": "4-MG3HS74Naj"
   },
   "source": [
    "**The following resources may assist Mac users:**\n",
    "\n",
    "[Install MongoDB Community Edition on macOS](https://www.mongodb.com/docs/manual/tutorial/install-mongodb-on-os-x/)\n",
    "\n",
    "[How to Install Latest MongoDB on macOS](https://www.youtube.com/watch?v=NLw7Tln6IeM)\n",
    "\n",
    "[How to install HomeBrew (often this helps, if you are having issues with your setup)](https://www.youtube.com/watch?v=IWJKRmFLn-g)"
   ]
  },
  {
   "cell_type": "code",
   "execution_count": 61,
   "metadata": {
    "id": "ude3llGg4Naj"
   },
   "outputs": [
    {
     "name": "stdout",
     "output_type": "stream",
     "text": [
      "Requirement already satisfied: pymongo in /Users/tresornoel/Desktop/anaconda3/lib/python3.11/site-packages (4.8.0)\n",
      "Requirement already satisfied: dnspython<3.0.0,>=1.16.0 in /Users/tresornoel/Desktop/anaconda3/lib/python3.11/site-packages (from pymongo) (2.6.1)\n"
     ]
    }
   ],
   "source": [
    "!pip install pymongo"
   ]
  },
  {
   "cell_type": "code",
   "execution_count": 62,
   "metadata": {
    "colab": {
     "base_uri": "https://localhost:8080/",
     "height": 383
    },
    "executionInfo": {
     "elapsed": 11,
     "status": "error",
     "timestamp": 1710482077396,
     "user": {
      "displayName": "Isabella Uslu",
      "userId": "15471511092561094644"
     },
     "user_tz": -660
    },
    "id": "56Yk9yQtB_bd",
    "outputId": "e8fe2eb1-981e-410b-fd58-93eddc833c78"
   },
   "outputs": [
    {
     "name": "stdout",
     "output_type": "stream",
     "text": [
      "Mongo version 4.6.3\n"
     ]
    }
   ],
   "source": [
    "from IPython.display import display, HTML\n",
    "import pymongo\n",
    "import pandas as pd\n",
    "from pymongo import MongoClient\n",
    "print ('Mongo version ' + pymongo.__version__)"
   ]
  },
  {
   "cell_type": "markdown",
   "metadata": {
    "id": "h5nSnXML4Pst"
   },
   "source": [
    "**Start the mongod server (if it isn't already running):**\n",
    "\n",
    "Windows:\n",
    "1. Using Command Prompt navigate to the folder containing `mongod.exe` (e.g. by typing cd \"C:\\Program Files\\MongoDB\\Server\\7.0\\bin\").\n",
    "2.  Execute `mongod` at the prompt.\n",
    "\n",
    "Mac:\n",
    "1. Run `brew services start mongodb-community@7.0`"
   ]
  },
  {
   "cell_type": "code",
   "execution_count": 67,
   "metadata": {
    "id": "NiYV2_VIB_bm"
   },
   "outputs": [],
   "source": [
    "# Creating a client object in our local machine\n",
    "client = MongoClient('localhost', 27017)"
   ]
  },
  {
   "cell_type": "code",
   "execution_count": 68,
   "metadata": {
    "id": "xkfJBF5i4Nal"
   },
   "outputs": [
    {
     "name": "stdout",
     "output_type": "stream",
     "text": [
      "['admin', 'config', 'local']\n"
     ]
    }
   ],
   "source": [
    "print(client.list_database_names())"
   ]
  },
  {
   "cell_type": "markdown",
   "metadata": {
    "id": "bAbG5bfy4Nam"
   },
   "source": [
    "In MongoDB, a **database** stores and manages collections of related data, similar to how you might organise files into folders on your computer."
   ]
  },
  {
   "cell_type": "markdown",
   "metadata": {
    "id": "vG8SqZDo4Nam"
   },
   "source": [
    "Create a new database:"
   ]
  },
  {
   "cell_type": "code",
   "execution_count": 69,
   "metadata": {
    "id": "UGsudTe24Nan"
   },
   "outputs": [],
   "source": [
    "db = client.test"
   ]
  },
  {
   "cell_type": "markdown",
   "metadata": {
    "id": "mLZ7RvZn4Nan"
   },
   "source": [
    "A **collection** in MongoDB is similar to a table in a relational database.\n",
    "Collections store documents (records) in a structured format (usually in BSON, which is a binary representation of JSON).\n",
    "The people collection likely contains documents related to people, such as user profiles, contact information, or other relevant data.\n",
    "Each document within the people collection represents an individual person or entity."
   ]
  },
  {
   "cell_type": "code",
   "execution_count": 70,
   "metadata": {
    "id": "6fu1nY6w4Nan"
   },
   "outputs": [
    {
     "name": "stdout",
     "output_type": "stream",
     "text": [
      "['admin', 'config', 'local']\n"
     ]
    }
   ],
   "source": [
    "print(client.list_database_names())"
   ]
  },
  {
   "cell_type": "markdown",
   "metadata": {
    "id": "g6jvYhsz4Nao"
   },
   "source": [
    "It is important to note that MongoDB is lazy: the db won't get created until data has been written to it!"
   ]
  },
  {
   "cell_type": "markdown",
   "metadata": {
    "id": "HvVFPpgRB_cA"
   },
   "source": [
    "Create a collection called \"shoppers\" (with object name `mycol`):"
   ]
  },
  {
   "cell_type": "code",
   "execution_count": 71,
   "metadata": {
    "id": "txROG8XV4Nap"
   },
   "outputs": [],
   "source": [
    "#ANSWER\n",
    "mycol = db.shoppers"
   ]
  },
  {
   "cell_type": "markdown",
   "metadata": {
    "id": "TRIbsM6VB_cE"
   },
   "source": [
    "Create a document (i.e. a dictionary) with two name:value items\n",
    "(\"name\" = \"Paul\", and \"address\" = \"Mansfield Ave\") and insert\n",
    "it into the \"shoppers\" collection:"
   ]
  },
  {
   "cell_type": "code",
   "execution_count": 72,
   "metadata": {
    "id": "KI1lYOBvB_cF"
   },
   "outputs": [],
   "source": [
    "#ANSWER:\n",
    "document = {\n",
    "    \"name\": \"Paul\",\n",
    "    \"address\": \"Mansfield Ave\"\n",
    "}"
   ]
  },
  {
   "cell_type": "markdown",
   "metadata": {
    "id": "_EEiTjd_B_cH"
   },
   "source": [
    "Now test for the existence of the database:"
   ]
  },
  {
   "cell_type": "code",
   "execution_count": 73,
   "metadata": {
    "id": "JsPz--uIB_cI"
   },
   "outputs": [
    {
     "name": "stdout",
     "output_type": "stream",
     "text": [
      "Database 'test' does not exist.\n"
     ]
    }
   ],
   "source": [
    "#ANSWER:\n",
    "db_list = client.list_database_names()\n",
    "if 'test' in db_list:\n",
    "    print(\"Database 'test' exists.\")\n",
    "else:\n",
    "    print(\"Database 'test' does not exist.\")"
   ]
  },
  {
   "cell_type": "markdown",
   "metadata": {
    "id": "WvgAowAdB_cK"
   },
   "source": [
    "List all collections in the database:"
   ]
  },
  {
   "cell_type": "code",
   "execution_count": 74,
   "metadata": {
    "id": "JMl-YlPNB_cK"
   },
   "outputs": [
    {
     "name": "stdout",
     "output_type": "stream",
     "text": [
      "Collections in 'test' database: []\n"
     ]
    }
   ],
   "source": [
    "#ANSWER\n",
    "db = client.test\n",
    "collection_list = db.list_collection_names()\n",
    "print(\"Collections in 'test' database:\", collection_list)"
   ]
  },
  {
   "cell_type": "markdown",
   "metadata": {
    "id": "ZBpH0Q9dB_cM"
   },
   "source": [
    "Insert another record in the \"shoppers\" collection\n",
    "(\"name\" = \"Rafa\", \"address\" = \"Holder Drive\")\n",
    "and return the value of the _id field:"
   ]
  },
  {
   "cell_type": "code",
   "execution_count": 75,
   "metadata": {
    "id": "LzSwoIlIB_cN",
    "scrolled": true
   },
   "outputs": [
    {
     "name": "stdout",
     "output_type": "stream",
     "text": [
      "Inserted document ID: 66a8bc254b5fd71885b58254\n"
     ]
    }
   ],
   "source": [
    "new_document = {\n",
    "    \"name\": \"Rafa\",\n",
    "    \"address\": \"Holder Drive\"\n",
    "}\n",
    "result = mycol.insert_one(new_document)\n",
    "print(f\"Inserted document ID: {result.inserted_id}\")"
   ]
  },
  {
   "cell_type": "markdown",
   "metadata": {
    "id": "g81P900vB_cP"
   },
   "source": [
    "Given the list of dicts below, insert multiple documents into\n",
    "the collection using the insert_many() method:"
   ]
  },
  {
   "cell_type": "code",
   "execution_count": 76,
   "metadata": {
    "id": "E7fwTxbcB_cP"
   },
   "outputs": [],
   "source": [
    "mylist = [\n",
    "  { \"name\": \"Ashton\", \"address\": \"Axle St\"},\n",
    "  { \"name\": \"Benjamin\", \"address\": \"Green Dr\"},\n",
    "  { \"name\": \"Sally\", \"address\": \"Holly Blvd\"},\n",
    "  { \"name\": \"Helen\", \"address\": \"Castor Prom\"},\n",
    "  { \"name\": \"Craig\", \"address\": \"Parsons Way\"},\n",
    "  { \"name\": \"Betty\", \"address\": \"Watters St\"},\n",
    "  { \"name\": \"Aparna\", \"address\": \"Yonder Dr\"},\n",
    "  { \"name\": \"Kent\", \"address\": \"Garrison St\"},\n",
    "  { \"name\": \"Violet\", \"address\": \"Station St\"},\n",
    "  { \"name\": \"Svetlana\", \"address\": \"Wayman Ave\"}\n",
    "]"
   ]
  },
  {
   "cell_type": "code",
   "execution_count": 77,
   "metadata": {
    "id": "g6xDpO86B_cR"
   },
   "outputs": [
    {
     "name": "stdout",
     "output_type": "stream",
     "text": [
      "Inserted document IDs: [ObjectId('66a8bc264b5fd71885b58255'), ObjectId('66a8bc264b5fd71885b58256'), ObjectId('66a8bc264b5fd71885b58257'), ObjectId('66a8bc264b5fd71885b58258'), ObjectId('66a8bc264b5fd71885b58259'), ObjectId('66a8bc264b5fd71885b5825a'), ObjectId('66a8bc264b5fd71885b5825b'), ObjectId('66a8bc264b5fd71885b5825c'), ObjectId('66a8bc264b5fd71885b5825d'), ObjectId('66a8bc264b5fd71885b5825e')]\n"
     ]
    }
   ],
   "source": [
    "# Insert the documents into the collection\n",
    "result = mycol.insert_many(mylist)\n",
    "# Print the inserted document IDs\n",
    "print(f\"Inserted document IDs: {result.inserted_ids}\")\n"
   ]
  },
  {
   "cell_type": "markdown",
   "metadata": {
    "id": "ZmuKgJ5SB_cU"
   },
   "source": [
    "Print a list of the _id values of the inserted documents:"
   ]
  },
  {
   "cell_type": "code",
   "execution_count": 78,
   "metadata": {
    "id": "zLS5mhlIB_cV",
    "outputId": "99da9bdf-3130-4ac4-b3d7-c44b6f622d5a"
   },
   "outputs": [
    {
     "name": "stdout",
     "output_type": "stream",
     "text": [
      "66a8bc264b5fd71885b58255\n",
      "66a8bc264b5fd71885b58256\n",
      "66a8bc264b5fd71885b58257\n",
      "66a8bc264b5fd71885b58258\n",
      "66a8bc264b5fd71885b58259\n",
      "66a8bc264b5fd71885b5825a\n",
      "66a8bc264b5fd71885b5825b\n",
      "66a8bc264b5fd71885b5825c\n",
      "66a8bc264b5fd71885b5825d\n",
      "66a8bc264b5fd71885b5825e\n"
     ]
    }
   ],
   "source": [
    "# Print the list of _id values\n",
    "id_list = result.inserted_ids\n",
    "for _id in id_list:\n",
    "    print(_id)"
   ]
  },
  {
   "cell_type": "markdown",
   "metadata": {
    "id": "kC0U_tYqB_cX"
   },
   "source": [
    "Execute the next cell to insert a list of dicts with specified `_id`s:"
   ]
  },
  {
   "cell_type": "code",
   "execution_count": 79,
   "metadata": {
    "id": "RnAv0sMdB_cX",
    "outputId": "4f0760ea-05b1-4a4a-d879-784ac104ce6c"
   },
   "outputs": [
    {
     "name": "stdout",
     "output_type": "stream",
     "text": [
      "[1, 2, 3, 4, 5, 6, 7, 8, 9, 10, 11, 12]\n"
     ]
    }
   ],
   "source": [
    "mylist = [\n",
    "  { \"_id\": 1, \"name\": \"Paul\", \"address\": \"Mansfield Ave\"},\n",
    "  { \"_id\": 2, \"name\": \"Rafa\", \"address\": \"Holder Drive\"},\n",
    "  { \"_id\": 3, \"name\": \"Ashton\", \"address\": \"Axle St\"},\n",
    "  { \"_id\": 4, \"name\": \"Benjamin\", \"address\": \"Green Dr\"},\n",
    "  { \"_id\": 5, \"name\": \"Sally\", \"address\": \"Holly Blvd\"},\n",
    "  { \"_id\": 6, \"name\": \"Helen\", \"address\": \"Castor Prom\"},\n",
    "  { \"_id\": 7, \"name\": \"Craig\", \"address\": \"Parsons Way\"},\n",
    "  { \"_id\": 8, \"name\": \"Betty\", \"address\": \"Watters St\"},\n",
    "  { \"_id\": 9, \"name\": \"Aparna\", \"address\": \"Yonder Dr\"},\n",
    "  { \"_id\": 10, \"name\": \"Kent\", \"address\": \"Garrison St\"},\n",
    "  { \"_id\": 11, \"name\": \"Violet\", \"address\": \"Station St\"},\n",
    "  { \"_id\": 12, \"name\": \"Svetlana\", \"address\": \"Wayman Ave\"}\n",
    "]\n",
    "x = mycol.insert_many(mylist)\n",
    "print(x.inserted_ids)"
   ]
  },
  {
   "cell_type": "markdown",
   "metadata": {
    "id": "vVPR7vhNB_cZ"
   },
   "source": [
    "Now try inserting a new dict with an existing `_id`:"
   ]
  },
  {
   "cell_type": "code",
   "execution_count": 81,
   "metadata": {
    "id": "Gklp0IIIB_ca"
   },
   "outputs": [],
   "source": [
    "# Warning -- This code will return an error as id no: 12 already exists\n",
    "x = mycol.insert_one({ \"_id\": 12, \"name\": \"Lola\", \"address\": \"Prospect Dr\"})"
   ]
  },
  {
   "cell_type": "markdown",
   "metadata": {
    "id": "3CKpbRGDB_cb"
   },
   "source": [
    "So, if we want to manage `_id`s in code, we need to be careful!"
   ]
  },
  {
   "cell_type": "markdown",
   "metadata": {
    "id": "eAyExvFAB_cc"
   },
   "source": [
    "This returns the first document in the collection:"
   ]
  },
  {
   "cell_type": "code",
   "execution_count": 25,
   "metadata": {
    "id": "YzXmhIr4B_cc",
    "outputId": "271ee843-b56b-48d7-8b36-68d0e1eac5c1"
   },
   "outputs": [
    {
     "name": "stdout",
     "output_type": "stream",
     "text": [
      "{'_id': ObjectId('66a781264b5fd71885b58247'), 'name': 'Rafa', 'address': 'Holder Drive'}\n"
     ]
    }
   ],
   "source": [
    "x = mycol.find_one()\n",
    "print(x)"
   ]
  },
  {
   "cell_type": "markdown",
   "metadata": {
    "id": "GWSokljaB_ce"
   },
   "source": [
    "Do the same for the document containing \"name\" = \"Ashton\":"
   ]
  },
  {
   "cell_type": "code",
   "execution_count": 27,
   "metadata": {
    "id": "cA5k8a_dB_cf"
   },
   "outputs": [
    {
     "name": "stdout",
     "output_type": "stream",
     "text": [
      "Document containing 'name' = 'Ashton': {'_id': ObjectId('66a781ee4b5fd71885b58248'), 'name': 'Ashton', 'address': 'Axle St'}\n"
     ]
    }
   ],
   "source": [
    "# Find the document where the name is \"Ashton\"\n",
    "ashton_doc = mycol.find_one({\"name\": \"Ashton\"})\n",
    "print(\"Document containing 'name' = 'Ashton':\", ashton_doc)"
   ]
  },
  {
   "cell_type": "markdown",
   "metadata": {
    "id": "DFCVFHu7B_ch"
   },
   "source": [
    "This returns (and prints) all documents in the collection:"
   ]
  },
  {
   "cell_type": "code",
   "execution_count": 28,
   "metadata": {
    "id": "UXVB_CSMB_ch"
   },
   "outputs": [
    {
     "name": "stdout",
     "output_type": "stream",
     "text": [
      "{'_id': ObjectId('66a781264b5fd71885b58247'), 'name': 'Rafa', 'address': 'Holder Drive'}\n",
      "{'_id': ObjectId('66a781ee4b5fd71885b58248'), 'name': 'Ashton', 'address': 'Axle St'}\n",
      "{'_id': ObjectId('66a781ee4b5fd71885b58249'), 'name': 'Benjamin', 'address': 'Green Dr'}\n",
      "{'_id': ObjectId('66a781ee4b5fd71885b5824a'), 'name': 'Sally', 'address': 'Holly Blvd'}\n",
      "{'_id': ObjectId('66a781ee4b5fd71885b5824b'), 'name': 'Helen', 'address': 'Castor Prom'}\n",
      "{'_id': ObjectId('66a781ee4b5fd71885b5824c'), 'name': 'Craig', 'address': 'Parsons Way'}\n",
      "{'_id': ObjectId('66a781ee4b5fd71885b5824d'), 'name': 'Betty', 'address': 'Watters St'}\n",
      "{'_id': ObjectId('66a781ee4b5fd71885b5824e'), 'name': 'Aparna', 'address': 'Yonder Dr'}\n",
      "{'_id': ObjectId('66a781ee4b5fd71885b5824f'), 'name': 'Kent', 'address': 'Garrison St'}\n",
      "{'_id': ObjectId('66a781ee4b5fd71885b58250'), 'name': 'Violet', 'address': 'Station St'}\n",
      "{'_id': ObjectId('66a781ee4b5fd71885b58251'), 'name': 'Svetlana', 'address': 'Wayman Ave'}\n",
      "{'_id': 1, 'name': 'Paul', 'address': 'Mansfield Ave'}\n",
      "{'_id': 2, 'name': 'Rafa', 'address': 'Holder Drive'}\n",
      "{'_id': 3, 'name': 'Ashton', 'address': 'Axle St'}\n",
      "{'_id': 4, 'name': 'Benjamin', 'address': 'Green Dr'}\n",
      "{'_id': 5, 'name': 'Sally', 'address': 'Holly Blvd'}\n",
      "{'_id': 6, 'name': 'Helen', 'address': 'Castor Prom'}\n",
      "{'_id': 7, 'name': 'Craig', 'address': 'Parsons Way'}\n",
      "{'_id': 8, 'name': 'Betty', 'address': 'Watters St'}\n",
      "{'_id': 9, 'name': 'Aparna', 'address': 'Yonder Dr'}\n",
      "{'_id': 10, 'name': 'Kent', 'address': 'Garrison St'}\n",
      "{'_id': 11, 'name': 'Violet', 'address': 'Station St'}\n",
      "{'_id': 12, 'name': 'Svetlana', 'address': 'Wayman Ave'}\n"
     ]
    }
   ],
   "source": [
    "for x in mycol.find():\n",
    "    print(x)"
   ]
  },
  {
   "cell_type": "markdown",
   "metadata": {
    "id": "6dQsHIF6B_cj"
   },
   "source": [
    "This returns only the name and address fields:"
   ]
  },
  {
   "cell_type": "code",
   "execution_count": 29,
   "metadata": {
    "id": "OKY_Buz0B_ck"
   },
   "outputs": [
    {
     "name": "stdout",
     "output_type": "stream",
     "text": [
      "{'name': 'Rafa', 'address': 'Holder Drive'}\n",
      "{'name': 'Ashton', 'address': 'Axle St'}\n",
      "{'name': 'Benjamin', 'address': 'Green Dr'}\n",
      "{'name': 'Sally', 'address': 'Holly Blvd'}\n",
      "{'name': 'Helen', 'address': 'Castor Prom'}\n",
      "{'name': 'Craig', 'address': 'Parsons Way'}\n",
      "{'name': 'Betty', 'address': 'Watters St'}\n",
      "{'name': 'Aparna', 'address': 'Yonder Dr'}\n",
      "{'name': 'Kent', 'address': 'Garrison St'}\n",
      "{'name': 'Violet', 'address': 'Station St'}\n",
      "{'name': 'Svetlana', 'address': 'Wayman Ave'}\n",
      "{'name': 'Paul', 'address': 'Mansfield Ave'}\n",
      "{'name': 'Rafa', 'address': 'Holder Drive'}\n",
      "{'name': 'Ashton', 'address': 'Axle St'}\n",
      "{'name': 'Benjamin', 'address': 'Green Dr'}\n",
      "{'name': 'Sally', 'address': 'Holly Blvd'}\n",
      "{'name': 'Helen', 'address': 'Castor Prom'}\n",
      "{'name': 'Craig', 'address': 'Parsons Way'}\n",
      "{'name': 'Betty', 'address': 'Watters St'}\n",
      "{'name': 'Aparna', 'address': 'Yonder Dr'}\n",
      "{'name': 'Kent', 'address': 'Garrison St'}\n",
      "{'name': 'Violet', 'address': 'Station St'}\n",
      "{'name': 'Svetlana', 'address': 'Wayman Ave'}\n"
     ]
    }
   ],
   "source": [
    "for x in mycol.find({},{ \"_id\": 0, \"name\": 1, \"address\": 1 }):\n",
    "    print(x)"
   ]
  },
  {
   "cell_type": "markdown",
   "metadata": {
    "id": "9jAQ7LAdB_cm"
   },
   "source": [
    "Print only the `_id` and name fields:"
   ]
  },
  {
   "cell_type": "code",
   "execution_count": 32,
   "metadata": {
    "id": "FP14yQUQB_cn"
   },
   "outputs": [
    {
     "name": "stdout",
     "output_type": "stream",
     "text": [
      "{'_id': ObjectId('66a781264b5fd71885b58247'), 'name': 'Rafa'}\n",
      "{'_id': ObjectId('66a781ee4b5fd71885b58248'), 'name': 'Ashton'}\n",
      "{'_id': ObjectId('66a781ee4b5fd71885b58249'), 'name': 'Benjamin'}\n",
      "{'_id': ObjectId('66a781ee4b5fd71885b5824a'), 'name': 'Sally'}\n",
      "{'_id': ObjectId('66a781ee4b5fd71885b5824b'), 'name': 'Helen'}\n",
      "{'_id': ObjectId('66a781ee4b5fd71885b5824c'), 'name': 'Craig'}\n",
      "{'_id': ObjectId('66a781ee4b5fd71885b5824d'), 'name': 'Betty'}\n",
      "{'_id': ObjectId('66a781ee4b5fd71885b5824e'), 'name': 'Aparna'}\n",
      "{'_id': ObjectId('66a781ee4b5fd71885b5824f'), 'name': 'Kent'}\n",
      "{'_id': ObjectId('66a781ee4b5fd71885b58250'), 'name': 'Violet'}\n",
      "{'_id': ObjectId('66a781ee4b5fd71885b58251'), 'name': 'Svetlana'}\n",
      "{'_id': 1, 'name': 'Paul'}\n",
      "{'_id': 2, 'name': 'Rafa'}\n",
      "{'_id': 3, 'name': 'Ashton'}\n",
      "{'_id': 4, 'name': 'Benjamin'}\n",
      "{'_id': 5, 'name': 'Sally'}\n",
      "{'_id': 6, 'name': 'Helen'}\n",
      "{'_id': 7, 'name': 'Craig'}\n",
      "{'_id': 8, 'name': 'Betty'}\n",
      "{'_id': 9, 'name': 'Aparna'}\n",
      "{'_id': 10, 'name': 'Kent'}\n",
      "{'_id': 11, 'name': 'Violet'}\n",
      "{'_id': 12, 'name': 'Svetlana'}\n"
     ]
    }
   ],
   "source": [
    "#ANSWER\n",
    "for x in mycol.find({}, { \"_id\": 1, \"name\": 1 }):\n",
    "    print(x)"
   ]
  },
  {
   "cell_type": "markdown",
   "metadata": {
    "id": "esHLntbmB_cp"
   },
   "source": [
    "So, we must explicitly use `\"_id\": 0` to exclude it, but for other fields we simply omit them from the dict argument."
   ]
  },
  {
   "cell_type": "markdown",
   "metadata": {
    "id": "hSOdFGEpB_cq"
   },
   "source": [
    "To include field conditionals in a query, we use `$` operators. This finds addresses starting with \"S\" or greater:"
   ]
  },
  {
   "cell_type": "code",
   "execution_count": 33,
   "metadata": {
    "id": "KaHOWDwkB_cq",
    "outputId": "ad0a4e7b-72ba-4d56-9279-1fc242e30cf1"
   },
   "outputs": [
    {
     "name": "stdout",
     "output_type": "stream",
     "text": [
      "{'_id': ObjectId('66a781ee4b5fd71885b5824d'), 'name': 'Betty', 'address': 'Watters St'}\n",
      "{'_id': ObjectId('66a781ee4b5fd71885b5824e'), 'name': 'Aparna', 'address': 'Yonder Dr'}\n",
      "{'_id': ObjectId('66a781ee4b5fd71885b58250'), 'name': 'Violet', 'address': 'Station St'}\n",
      "{'_id': ObjectId('66a781ee4b5fd71885b58251'), 'name': 'Svetlana', 'address': 'Wayman Ave'}\n",
      "{'_id': 8, 'name': 'Betty', 'address': 'Watters St'}\n",
      "{'_id': 9, 'name': 'Aparna', 'address': 'Yonder Dr'}\n",
      "{'_id': 11, 'name': 'Violet', 'address': 'Station St'}\n",
      "{'_id': 12, 'name': 'Svetlana', 'address': 'Wayman Ave'}\n"
     ]
    }
   ],
   "source": [
    "myquery = { \"address\": { \"$gt\": \"S\" } }\n",
    "mydoc = mycol.find(myquery)\n",
    "for x in mydoc:\n",
    "    print(x)"
   ]
  },
  {
   "cell_type": "markdown",
   "metadata": {
    "id": "i3fUXWpiB_cs"
   },
   "source": [
    "Here are some more comparison operators:\n",
    "\n",
    "            $gt, $gte, $eq, $in, $nin, $exists, $and, $or, $not\n",
    "            \n",
    "Experiment with these until you understand how to use them."
   ]
  },
  {
   "cell_type": "code",
   "execution_count": 60,
   "metadata": {
    "id": "ensDpd9VB_ct"
   },
   "outputs": [
    {
     "name": "stdout",
     "output_type": "stream",
     "text": [
      "\n",
      "\n",
      "\n",
      "\n",
      "\n",
      "\n",
      "\n",
      "\n"
     ]
    }
   ],
   "source": [
    "# Selects documents where the value of the field is greater than 30\n",
    "for shopper in mycol.find({\"age\": {\"$gt\": 30}}):\n",
    "    print(shopper)\n",
    "print()\n",
    "# Selects documents where the value of the field is greater than or equal to 30.\n",
    "for shopper in mycol.find({\"age\": {\"$gte\": 30}}):\n",
    "    print(shopper)\n",
    "print()\n",
    "# Selects documents where the value of the field is Paul.\n",
    "for shopper in mycol.find({\"name\": {\"$eq\": \"Paul\"}}):\n",
    "    print(shopper)\n",
    "print()\n",
    "# Selects the documents where the value of a field equals any value in the array.\n",
    "for shopper in mycol.find({\"name\": {\"$in\": [\"Paul\", \"Rafa\"]}}):\n",
    "    print(shopper)\n",
    "print()\n",
    "# Selects the documents where the value of a field does not equal any value in the array\n",
    "for shopper in mycol.find({\"name\": {\"$nin\": [\"Paul\", \"Rafa\"]}}):\n",
    "    print(shopper)\n",
    "print()\n",
    "# Matching documents in address.\n",
    "for shopper in mycol.find({\"address\": {\"$exists\": True}}):\n",
    "    print(shopper)\n",
    "print()\n",
    "# Joins query clauses with a logical AND returns all documents that match the conditions below.\n",
    "for shopper in mycol.find({\"$and\": [{\"age\": {\"$gt\": 30}}, {\"name\": \"Paul\"}]}):\n",
    "    print(shopper)\n",
    "print()    \n",
    "# Joins query clauses with a logical OR returns all documents that match the conditions of either clause.\n",
    "for shopper in mycol.find({\"$or\": [{\"age\": {\"$gt\": 30}}, {\"name\": \"Paul\"}]}):\n",
    "    print(shopper)\n",
    "print()\n",
    "# Inverts the effect of a query expression and returns documents that do not match the query expression.\n",
    "for shopper in mycol.find({\"age\": {\"$not\": {\"$gt\": 30}}}):\n",
    "    print(shopper)\n"
   ]
  },
  {
   "cell_type": "markdown",
   "metadata": {
    "id": "IxvWRoS3B_cu"
   },
   "source": [
    "Now find all docs with an address that begins with \"W\":  \n",
    "(HINT: The value for \"address\" in the argument should be the regex-based dict { \"$regex\": \"^W\" }.)"
   ]
  },
  {
   "cell_type": "code",
   "execution_count": 37,
   "metadata": {
    "id": "i5zMYTsdB_cu"
   },
   "outputs": [
    {
     "name": "stdout",
     "output_type": "stream",
     "text": [
      "{'_id': ObjectId('66a781ee4b5fd71885b5824d'), 'name': 'Betty', 'address': 'Watters St'}\n",
      "{'_id': ObjectId('66a781ee4b5fd71885b58251'), 'name': 'Svetlana', 'address': 'Wayman Ave'}\n",
      "{'_id': 8, 'name': 'Betty', 'address': 'Watters St'}\n",
      "{'_id': 12, 'name': 'Svetlana', 'address': 'Wayman Ave'}\n"
     ]
    }
   ],
   "source": [
    "#ANSWER:\n",
    "# Find all documents with an address that begins with \"W\"\n",
    "query = {\"address\": {\"$regex\": \"^W\"}}\n",
    "\n",
    "# Execute the query\n",
    "for shopper in mycol.find(query):\n",
    "    print(shopper)"
   ]
  },
  {
   "cell_type": "markdown",
   "metadata": {
    "id": "B1W9jlEnB_cw"
   },
   "source": [
    "Sorting can be applied by invoking the sort() method after the find() method. Sort the collection by the name field:"
   ]
  },
  {
   "cell_type": "code",
   "execution_count": 38,
   "metadata": {
    "id": "fzxxFYrtB_cw"
   },
   "outputs": [
    {
     "name": "stdout",
     "output_type": "stream",
     "text": [
      "{'_id': ObjectId('66a781ee4b5fd71885b5824e'), 'name': 'Aparna', 'address': 'Yonder Dr'}\n",
      "{'_id': 9, 'name': 'Aparna', 'address': 'Yonder Dr'}\n",
      "{'_id': ObjectId('66a781ee4b5fd71885b58248'), 'name': 'Ashton', 'address': 'Axle St'}\n",
      "{'_id': 3, 'name': 'Ashton', 'address': 'Axle St'}\n",
      "{'_id': ObjectId('66a781ee4b5fd71885b58249'), 'name': 'Benjamin', 'address': 'Green Dr'}\n",
      "{'_id': 4, 'name': 'Benjamin', 'address': 'Green Dr'}\n",
      "{'_id': ObjectId('66a781ee4b5fd71885b5824d'), 'name': 'Betty', 'address': 'Watters St'}\n",
      "{'_id': 8, 'name': 'Betty', 'address': 'Watters St'}\n",
      "{'_id': ObjectId('66a781ee4b5fd71885b5824c'), 'name': 'Craig', 'address': 'Parsons Way'}\n",
      "{'_id': 7, 'name': 'Craig', 'address': 'Parsons Way'}\n",
      "{'_id': ObjectId('66a781ee4b5fd71885b5824b'), 'name': 'Helen', 'address': 'Castor Prom'}\n",
      "{'_id': 6, 'name': 'Helen', 'address': 'Castor Prom'}\n",
      "{'_id': ObjectId('66a781ee4b5fd71885b5824f'), 'name': 'Kent', 'address': 'Garrison St'}\n",
      "{'_id': 10, 'name': 'Kent', 'address': 'Garrison St'}\n",
      "{'_id': 1, 'name': 'Paul', 'address': 'Mansfield Ave'}\n",
      "{'_id': ObjectId('66a781264b5fd71885b58247'), 'name': 'Rafa', 'address': 'Holder Drive'}\n",
      "{'_id': 2, 'name': 'Rafa', 'address': 'Holder Drive'}\n",
      "{'_id': ObjectId('66a781ee4b5fd71885b5824a'), 'name': 'Sally', 'address': 'Holly Blvd'}\n",
      "{'_id': 5, 'name': 'Sally', 'address': 'Holly Blvd'}\n",
      "{'_id': ObjectId('66a781ee4b5fd71885b58251'), 'name': 'Svetlana', 'address': 'Wayman Ave'}\n",
      "{'_id': 12, 'name': 'Svetlana', 'address': 'Wayman Ave'}\n",
      "{'_id': ObjectId('66a781ee4b5fd71885b58250'), 'name': 'Violet', 'address': 'Station St'}\n",
      "{'_id': 11, 'name': 'Violet', 'address': 'Station St'}\n"
     ]
    }
   ],
   "source": [
    "#ANSWER:\n",
    "# Sort the documents by the 'name' field \n",
    "for shopper in mycol.find().sort(\"name\", 1):\n",
    "    print(shopper)"
   ]
  },
  {
   "cell_type": "markdown",
   "metadata": {
    "id": "esbldZv0B_cx"
   },
   "source": [
    "Now sort in reverse order (HINT: The sort() method takes an optional second parameter.)"
   ]
  },
  {
   "cell_type": "code",
   "execution_count": 39,
   "metadata": {
    "id": "k5oDnwVb4Naw"
   },
   "outputs": [
    {
     "name": "stdout",
     "output_type": "stream",
     "text": [
      "{'_id': ObjectId('66a781ee4b5fd71885b58250'), 'name': 'Violet', 'address': 'Station St'}\n",
      "{'_id': 11, 'name': 'Violet', 'address': 'Station St'}\n",
      "{'_id': ObjectId('66a781ee4b5fd71885b58251'), 'name': 'Svetlana', 'address': 'Wayman Ave'}\n",
      "{'_id': 12, 'name': 'Svetlana', 'address': 'Wayman Ave'}\n",
      "{'_id': ObjectId('66a781ee4b5fd71885b5824a'), 'name': 'Sally', 'address': 'Holly Blvd'}\n",
      "{'_id': 5, 'name': 'Sally', 'address': 'Holly Blvd'}\n",
      "{'_id': ObjectId('66a781264b5fd71885b58247'), 'name': 'Rafa', 'address': 'Holder Drive'}\n",
      "{'_id': 2, 'name': 'Rafa', 'address': 'Holder Drive'}\n",
      "{'_id': 1, 'name': 'Paul', 'address': 'Mansfield Ave'}\n",
      "{'_id': ObjectId('66a781ee4b5fd71885b5824f'), 'name': 'Kent', 'address': 'Garrison St'}\n",
      "{'_id': 10, 'name': 'Kent', 'address': 'Garrison St'}\n",
      "{'_id': ObjectId('66a781ee4b5fd71885b5824b'), 'name': 'Helen', 'address': 'Castor Prom'}\n",
      "{'_id': 6, 'name': 'Helen', 'address': 'Castor Prom'}\n",
      "{'_id': ObjectId('66a781ee4b5fd71885b5824c'), 'name': 'Craig', 'address': 'Parsons Way'}\n",
      "{'_id': 7, 'name': 'Craig', 'address': 'Parsons Way'}\n",
      "{'_id': ObjectId('66a781ee4b5fd71885b5824d'), 'name': 'Betty', 'address': 'Watters St'}\n",
      "{'_id': 8, 'name': 'Betty', 'address': 'Watters St'}\n",
      "{'_id': ObjectId('66a781ee4b5fd71885b58249'), 'name': 'Benjamin', 'address': 'Green Dr'}\n",
      "{'_id': 4, 'name': 'Benjamin', 'address': 'Green Dr'}\n",
      "{'_id': ObjectId('66a781ee4b5fd71885b58248'), 'name': 'Ashton', 'address': 'Axle St'}\n",
      "{'_id': 3, 'name': 'Ashton', 'address': 'Axle St'}\n",
      "{'_id': ObjectId('66a781ee4b5fd71885b5824e'), 'name': 'Aparna', 'address': 'Yonder Dr'}\n",
      "{'_id': 9, 'name': 'Aparna', 'address': 'Yonder Dr'}\n"
     ]
    }
   ],
   "source": [
    "#ANSWER\n",
    "# Sort the documents by the 'name' field in reverse order\n",
    "for shopper in mycol.find().sort(\"name\", -1):\n",
    "    print(shopper)"
   ]
  },
  {
   "cell_type": "markdown",
   "metadata": {
    "id": "s0oVQyDGB_cy"
   },
   "source": [
    "A single record can be deleted by specifying some criterion:"
   ]
  },
  {
   "cell_type": "code",
   "execution_count": 40,
   "metadata": {
    "id": "8yxmQAs6B_cy",
    "outputId": "1bc9d528-4034-438e-a68b-acc7f11efce4"
   },
   "outputs": [
    {
     "data": {
      "text/plain": [
       "DeleteResult({'n': 1, 'ok': 1.0}, acknowledged=True)"
      ]
     },
     "execution_count": 40,
     "metadata": {},
     "output_type": "execute_result"
    }
   ],
   "source": [
    "mycol.delete_one({ \"address\": \"Castor Prom\" })"
   ]
  },
  {
   "cell_type": "markdown",
   "metadata": {
    "id": "QqH7lF-uB_c0"
   },
   "source": [
    "Now delete all docs with the 2-digit `Id` values:"
   ]
  },
  {
   "cell_type": "code",
   "execution_count": 44,
   "metadata": {
    "id": "0pyYX1YUB_c0",
    "scrolled": true
   },
   "outputs": [
    {
     "name": "stdout",
     "output_type": "stream",
     "text": [
      "Deleted 0 documents.\n"
     ]
    }
   ],
   "source": [
    "#ANSWER\n",
    "# Delete documents with 2-digit _id values\n",
    "delete_result = mycol.delete_many({\"_id\": {\"$regex\": \"^\\d{2}$\"}})\n",
    "\n",
    "# Print the result of the deletion\n",
    "print(f\"Deleted {delete_result.deleted_count} documents.\")"
   ]
  },
  {
   "cell_type": "markdown",
   "metadata": {
    "id": "CsjxNZY6B_c1"
   },
   "source": [
    "This would delete all docs:\n",
    "`x = mycol.delete_many({})`\n",
    "\n",
    "This would remove the collection:\n",
    "`mycol.drop()`\n",
    "\n",
    "This would drop the database:\n",
    "`client.drop_database('test')`"
   ]
  },
  {
   "cell_type": "markdown",
   "metadata": {
    "id": "2Dnc3vItB_c2"
   },
   "source": [
    "Change the first instance of \"address\" == \"Garrison St\" to \"Somers Ave\" using update_one().  \n",
    "(HINT: The 1st parameter of update_one() is the criterion (query); the 2nd is dict specifying the field to change and its new value.)"
   ]
  },
  {
   "cell_type": "code",
   "execution_count": 45,
   "metadata": {
    "id": "lhd3SoGjB_c2"
   },
   "outputs": [
    {
     "name": "stdout",
     "output_type": "stream",
     "text": [
      "Matched 1 document(s) and modified 1 document(s).\n"
     ]
    }
   ],
   "source": [
    "#ANSWER:\n",
    "# update the address from \"Garrison St\" to \"Somers Ave\"\n",
    "update_result = mycol.update_one(\n",
    "    {\"address\": \"Garrison St\"},  # Criterion\n",
    "    {\"$set\": {\"address\": \"Somers Ave\"}}  # Update operation\n",
    ")\n",
    "\n",
    "# Print the result of the update\n",
    "print(f\"Matched {update_result.matched_count} document(s) and modified {update_result.modified_count} document(s).\")"
   ]
  },
  {
   "cell_type": "markdown",
   "metadata": {
    "id": "56frrtHFB_c3"
   },
   "source": [
    "The limit() method can be applied after the find() method to limit the number of docs returned. Show the first 5 docs:"
   ]
  },
  {
   "cell_type": "code",
   "execution_count": 46,
   "metadata": {
    "id": "iKI5zKUbB_c4",
    "scrolled": true
   },
   "outputs": [
    {
     "name": "stdout",
     "output_type": "stream",
     "text": [
      "{'_id': ObjectId('66a781264b5fd71885b58247'), 'name': 'Rafa', 'address': 'Holder Drive'}\n",
      "{'_id': ObjectId('66a781ee4b5fd71885b58248'), 'name': 'Ashton', 'address': 'Axle St'}\n",
      "{'_id': ObjectId('66a781ee4b5fd71885b58249'), 'name': 'Benjamin', 'address': 'Green Dr'}\n",
      "{'_id': ObjectId('66a781ee4b5fd71885b5824a'), 'name': 'Sally', 'address': 'Holly Blvd'}\n",
      "{'_id': ObjectId('66a781ee4b5fd71885b5824c'), 'name': 'Craig', 'address': 'Parsons Way'}\n"
     ]
    }
   ],
   "source": [
    "#ANSWER:\n",
    "# Retrieve the first 5 documents\n",
    "first_five_docs = mycol.find().limit(5)\n",
    "# Print the first 5 documents\n",
    "for doc in first_five_docs:\n",
    "    print(doc)"
   ]
  },
  {
   "cell_type": "markdown",
   "metadata": {
    "id": "eT0nESi-B_c5"
   },
   "source": [
    "## PyMongo for Data Science"
   ]
  },
  {
   "cell_type": "markdown",
   "metadata": {
    "id": "S_MH0UFpB_c5"
   },
   "source": [
    "MongoDB has many more features of interest to developers, but the main focus of a data scientist will be wrangling and munging the data. It may or may not be desirable to do all the data munging in Pandas; for a large, distributed database, it may be imperative to perform aggregation in MongoDB."
   ]
  },
  {
   "cell_type": "code",
   "execution_count": 82,
   "metadata": {
    "id": "TM1rIsJuB_c5"
   },
   "outputs": [],
   "source": [
    "# Ref:  https://rsandstroem.github.io/MongoDBDemo.html\n",
    "\n",
    "import pandas as pd\n",
    "import numpy as np"
   ]
  },
  {
   "cell_type": "markdown",
   "metadata": {
    "id": "L6kZkdjRB_c7"
   },
   "source": [
    "The following code in the next few cells, will create a database named \"command_test\" which populates its data from a local JSON file called dummyData.json (you need to download this from the Google Classroom DATA folder) using the mongoimport program.\n",
    "\n",
    "**Step 1**. Using the command prompt (Windows) or Terminal (Mac) change to the directory containing the file mongoimport.exe (example: cd \"C:\\Program Files\\MongoDB\\Tools\\100\\bin\")"
   ]
  },
  {
   "cell_type": "markdown",
   "metadata": {
    "id": "gr7dgFCC4Naz"
   },
   "source": [
    "**Step 2**. After you have changed your directory, copy/paste the line below in the command prompt/ terminal after modifying \"dummydata.json\" to include the path on your system where the file is located:\n",
    "<br>\n",
    "\n",
    "      mongoimport --db command_test --collection people --drop --file \"dummyData.json\"       \n",
    "\n",
    "- db: stands for database name that you use --> in our case, it is \"command_test\"\n",
    "- collection: stands for the collection you created within the database --> in our case it is \"people\"\n",
    "- file: stands for the file path to your \"dummyData.json\" file, which you downloaded from our Google Classroom DATA folder - you may need to modify \"dummyData.json\""
   ]
  },
  {
   "cell_type": "markdown",
   "metadata": {
    "id": "xFH0rxoY4Naz"
   },
   "source": [
    "**Step 3**. Copy/paste the line below into the command prompt or terminal:\n",
    "<br>\n",
    "\n",
    "    mongoimport -d command_test -c people --file \"dummyData.json\"\n"
   ]
  },
  {
   "cell_type": "code",
   "execution_count": 83,
   "metadata": {
    "id": "6WP7YGNXKbpZ"
   },
   "outputs": [],
   "source": [
    "client = MongoClient('localhost', 27017) #connects to your local mongoDB"
   ]
  },
  {
   "cell_type": "markdown",
   "metadata": {
    "id": "5ut5OAY14Naz"
   },
   "source": [
    "If the above is successful, running the next cell should produce three records corresponding to the youngest people."
   ]
  },
  {
   "cell_type": "code",
   "execution_count": 84,
   "metadata": {
    "id": "fXByi5IfB_c_"
   },
   "outputs": [
    {
     "name": "stdout",
     "output_type": "stream",
     "text": [
      "{'_id': ObjectId('66a8c2b1c3cb3738bebe0498'), 'Name': 'Sawyer, Neve M.', 'Age': 18, 'Country': 'Serbia', 'Location': '-34.37446, 174.0838'}\n",
      "{'_id': ObjectId('66a8c2b1c3cb3738bebe0455'), 'Name': 'Townsend, Cadman I.', 'Age': 19, 'Country': 'Somalia', 'Location': '-87.69188, -144.16138'}\n",
      "{'_id': ObjectId('66a8c2b1c3cb3738bebe047e'), 'Name': 'Graham, Emerald O.', 'Age': 20, 'Country': 'Eritrea', 'Location': '61.35398, 28.04381'}\n"
     ]
    }
   ],
   "source": [
    "db = client.command_test\n",
    "collection = db.people\n",
    "cursor = collection.find().sort('Age',pymongo.ASCENDING).limit(3)\n",
    "for doc in cursor:\n",
    "    print (doc)"
   ]
  },
  {
   "cell_type": "markdown",
   "metadata": {
    "id": "vPnfkW2tB_dA"
   },
   "source": [
    "Here is a small demonstration of the MongoDB aggregation framework. We want to create a table of the number of persons in each country and their average age. To do it we group by country. We extract the results from MongoDB aggregation into a pandas dataframe, and use the country as index."
   ]
  },
  {
   "cell_type": "code",
   "execution_count": 85,
   "metadata": {
    "id": "s2q_B0m5B_dA"
   },
   "outputs": [
    {
     "data": {
      "text/html": [
       "<div>\n",
       "<style scoped>\n",
       "    .dataframe tbody tr th:only-of-type {\n",
       "        vertical-align: middle;\n",
       "    }\n",
       "\n",
       "    .dataframe tbody tr th {\n",
       "        vertical-align: top;\n",
       "    }\n",
       "\n",
       "    .dataframe thead th {\n",
       "        text-align: right;\n",
       "    }\n",
       "</style>\n",
       "<table border=\"1\" class=\"dataframe\">\n",
       "  <thead>\n",
       "    <tr style=\"text-align: right;\">\n",
       "      <th></th>\n",
       "      <th>AvgAge</th>\n",
       "      <th>Count</th>\n",
       "    </tr>\n",
       "    <tr>\n",
       "      <th>_id</th>\n",
       "      <th></th>\n",
       "      <th></th>\n",
       "    </tr>\n",
       "  </thead>\n",
       "  <tbody>\n",
       "    <tr>\n",
       "      <th>China</th>\n",
       "      <td>46.250000</td>\n",
       "      <td>4</td>\n",
       "    </tr>\n",
       "    <tr>\n",
       "      <th>Antarctica</th>\n",
       "      <td>46.333333</td>\n",
       "      <td>3</td>\n",
       "    </tr>\n",
       "    <tr>\n",
       "      <th>Guernsey</th>\n",
       "      <td>48.333333</td>\n",
       "      <td>3</td>\n",
       "    </tr>\n",
       "    <tr>\n",
       "      <th>Puerto Rico</th>\n",
       "      <td>26.500000</td>\n",
       "      <td>2</td>\n",
       "    </tr>\n",
       "    <tr>\n",
       "      <th>Heard Island and Mcdonald Islands</th>\n",
       "      <td>29.000000</td>\n",
       "      <td>2</td>\n",
       "    </tr>\n",
       "  </tbody>\n",
       "</table>\n",
       "</div>"
      ],
      "text/plain": [
       "                                      AvgAge  Count\n",
       "_id                                                \n",
       "China                              46.250000      4\n",
       "Antarctica                         46.333333      3\n",
       "Guernsey                           48.333333      3\n",
       "Puerto Rico                        26.500000      2\n",
       "Heard Island and Mcdonald Islands  29.000000      2"
      ]
     },
     "execution_count": 85,
     "metadata": {},
     "output_type": "execute_result"
    }
   ],
   "source": [
    "pipeline = [\n",
    "        {\"$group\": {\"_id\":\"$Country\",\n",
    "             \"AvgAge\":{\"$avg\":\"$Age\"},\n",
    "             \"Count\":{\"$sum\":1},\n",
    "        }},\n",
    "        {\"$sort\":{\"Count\":-1,\"AvgAge\":1}}\n",
    "]\n",
    "aggResult = collection.aggregate(pipeline) # returns a cursor\n",
    "\n",
    "df1 = pd.DataFrame(list(aggResult)) # use list to turn the cursor to an array of documents\n",
    "df1 = df1.set_index(\"_id\")\n",
    "df1.head()"
   ]
  },
  {
   "cell_type": "markdown",
   "metadata": {
    "id": "H9vaINaBB_dB"
   },
   "source": [
    "For simple cases one can either use a cursor through find(\"search term\") or use the \"$match\" operator in the aggregation framework, like this:"
   ]
  },
  {
   "cell_type": "code",
   "execution_count": 86,
   "metadata": {
    "id": "3oymmJpUB_dB"
   },
   "outputs": [
    {
     "data": {
      "text/html": [
       "<div>\n",
       "<style scoped>\n",
       "    .dataframe tbody tr th:only-of-type {\n",
       "        vertical-align: middle;\n",
       "    }\n",
       "\n",
       "    .dataframe tbody tr th {\n",
       "        vertical-align: top;\n",
       "    }\n",
       "\n",
       "    .dataframe thead th {\n",
       "        text-align: right;\n",
       "    }\n",
       "</style>\n",
       "<table border=\"1\" class=\"dataframe\">\n",
       "  <thead>\n",
       "    <tr style=\"text-align: right;\">\n",
       "      <th></th>\n",
       "      <th>_id</th>\n",
       "      <th>Name</th>\n",
       "      <th>Age</th>\n",
       "      <th>Country</th>\n",
       "      <th>Location</th>\n",
       "    </tr>\n",
       "  </thead>\n",
       "  <tbody>\n",
       "    <tr>\n",
       "      <th>0</th>\n",
       "      <td>66a8c2b1c3cb3738bebe0453</td>\n",
       "      <td>Holman, Hasad O.</td>\n",
       "      <td>32</td>\n",
       "      <td>China</td>\n",
       "      <td>39.9127, 116.3833</td>\n",
       "    </tr>\n",
       "    <tr>\n",
       "      <th>1</th>\n",
       "      <td>66a8c2b1c3cb3738bebe0490</td>\n",
       "      <td>Byrd, Dante A.</td>\n",
       "      <td>43</td>\n",
       "      <td>China</td>\n",
       "      <td>31.2, 121.5</td>\n",
       "    </tr>\n",
       "    <tr>\n",
       "      <th>2</th>\n",
       "      <td>66a8c2b1c3cb3738bebe04a2</td>\n",
       "      <td>Carney, Tamekah I.</td>\n",
       "      <td>57</td>\n",
       "      <td>China</td>\n",
       "      <td>45.75, 126.6333</td>\n",
       "    </tr>\n",
       "    <tr>\n",
       "      <th>3</th>\n",
       "      <td>66a8c2b1c3cb3738bebe04a7</td>\n",
       "      <td>Mayer, Violet U.</td>\n",
       "      <td>53</td>\n",
       "      <td>China</td>\n",
       "      <td>40, 95</td>\n",
       "    </tr>\n",
       "  </tbody>\n",
       "</table>\n",
       "</div>"
      ],
      "text/plain": [
       "                        _id                Name  Age Country  \\\n",
       "0  66a8c2b1c3cb3738bebe0453    Holman, Hasad O.   32   China   \n",
       "1  66a8c2b1c3cb3738bebe0490      Byrd, Dante A.   43   China   \n",
       "2  66a8c2b1c3cb3738bebe04a2  Carney, Tamekah I.   57   China   \n",
       "3  66a8c2b1c3cb3738bebe04a7    Mayer, Violet U.   53   China   \n",
       "\n",
       "            Location  \n",
       "0  39.9127, 116.3833  \n",
       "1        31.2, 121.5  \n",
       "2    45.75, 126.6333  \n",
       "3             40, 95  "
      ]
     },
     "execution_count": 86,
     "metadata": {},
     "output_type": "execute_result"
    }
   ],
   "source": [
    "pipeline = [\n",
    "        {\"$match\": {\"Country\":\"China\"}},\n",
    "]\n",
    "aggResult = collection.aggregate(pipeline)\n",
    "df2 = pd.DataFrame(list(aggResult))\n",
    "df2.head()"
   ]
  },
  {
   "cell_type": "markdown",
   "metadata": {
    "id": "terLdzDaB_dC"
   },
   "source": [
    "Now we can apply all the power of Python libraries to analyse and visualise the data. Here, we will use the folium package to plot markers for the locations of the people we just found in China (click on a marker to see their data):"
   ]
  },
  {
   "cell_type": "code",
   "execution_count": 53,
   "metadata": {
    "id": "v2lsaYlAB_dC"
   },
   "outputs": [],
   "source": [
    "# Un-comment and execute to install folium pkg (1st time only):\n",
    "# import sys\n",
    "# !{sys.executable} -m pip install folium"
   ]
  },
  {
   "cell_type": "code",
   "execution_count": 54,
   "metadata": {
    "id": "SuRbCt48B_dD"
   },
   "outputs": [
    {
     "name": "stdout",
     "output_type": "stream",
     "text": [
      "Folium version 0.17.0\n"
     ]
    },
    {
     "data": {
      "text/html": [
       "<div style=\"width:100%;\"><div style=\"position:relative;width:100%;height:0;padding-bottom:60%;\"><span style=\"color:#565656\">Make this Notebook Trusted to load map: File -> Trust Notebook</span><iframe srcdoc=\"&lt;!DOCTYPE html&gt;\n",
       "&lt;html&gt;\n",
       "&lt;head&gt;\n",
       "    \n",
       "    &lt;meta http-equiv=&quot;content-type&quot; content=&quot;text/html; charset=UTF-8&quot; /&gt;\n",
       "    \n",
       "        &lt;script&gt;\n",
       "            L_NO_TOUCH = false;\n",
       "            L_DISABLE_3D = false;\n",
       "        &lt;/script&gt;\n",
       "    \n",
       "    &lt;style&gt;html, body {width: 100%;height: 100%;margin: 0;padding: 0;}&lt;/style&gt;\n",
       "    &lt;style&gt;#map {position:absolute;top:0;bottom:0;right:0;left:0;}&lt;/style&gt;\n",
       "    &lt;script src=&quot;https://cdn.jsdelivr.net/npm/leaflet@1.9.3/dist/leaflet.js&quot;&gt;&lt;/script&gt;\n",
       "    &lt;script src=&quot;https://code.jquery.com/jquery-3.7.1.min.js&quot;&gt;&lt;/script&gt;\n",
       "    &lt;script src=&quot;https://cdn.jsdelivr.net/npm/bootstrap@5.2.2/dist/js/bootstrap.bundle.min.js&quot;&gt;&lt;/script&gt;\n",
       "    &lt;script src=&quot;https://cdnjs.cloudflare.com/ajax/libs/Leaflet.awesome-markers/2.0.2/leaflet.awesome-markers.js&quot;&gt;&lt;/script&gt;\n",
       "    &lt;link rel=&quot;stylesheet&quot; href=&quot;https://cdn.jsdelivr.net/npm/leaflet@1.9.3/dist/leaflet.css&quot;/&gt;\n",
       "    &lt;link rel=&quot;stylesheet&quot; href=&quot;https://cdn.jsdelivr.net/npm/bootstrap@5.2.2/dist/css/bootstrap.min.css&quot;/&gt;\n",
       "    &lt;link rel=&quot;stylesheet&quot; href=&quot;https://netdna.bootstrapcdn.com/bootstrap/3.0.0/css/bootstrap-glyphicons.css&quot;/&gt;\n",
       "    &lt;link rel=&quot;stylesheet&quot; href=&quot;https://cdn.jsdelivr.net/npm/@fortawesome/fontawesome-free@6.2.0/css/all.min.css&quot;/&gt;\n",
       "    &lt;link rel=&quot;stylesheet&quot; href=&quot;https://cdnjs.cloudflare.com/ajax/libs/Leaflet.awesome-markers/2.0.2/leaflet.awesome-markers.css&quot;/&gt;\n",
       "    &lt;link rel=&quot;stylesheet&quot; href=&quot;https://cdn.jsdelivr.net/gh/python-visualization/folium/folium/templates/leaflet.awesome.rotate.min.css&quot;/&gt;\n",
       "    \n",
       "            &lt;meta name=&quot;viewport&quot; content=&quot;width=device-width,\n",
       "                initial-scale=1.0, maximum-scale=1.0, user-scalable=no&quot; /&gt;\n",
       "            &lt;style&gt;\n",
       "                #map_536c2979bb0170e53d7d76ea9fca4b49 {\n",
       "                    position: relative;\n",
       "                    width: 100.0%;\n",
       "                    height: 100.0%;\n",
       "                    left: 0.0%;\n",
       "                    top: 0.0%;\n",
       "                }\n",
       "                .leaflet-container { font-size: 1rem; }\n",
       "            &lt;/style&gt;\n",
       "        \n",
       "&lt;/head&gt;\n",
       "&lt;body&gt;\n",
       "    \n",
       "    \n",
       "            &lt;div class=&quot;folium-map&quot; id=&quot;map_536c2979bb0170e53d7d76ea9fca4b49&quot; &gt;&lt;/div&gt;\n",
       "        \n",
       "&lt;/body&gt;\n",
       "&lt;script&gt;\n",
       "    \n",
       "    \n",
       "            var map_536c2979bb0170e53d7d76ea9fca4b49 = L.map(\n",
       "                &quot;map_536c2979bb0170e53d7d76ea9fca4b49&quot;,\n",
       "                {\n",
       "                    center: [35.0, 100.0],\n",
       "                    crs: L.CRS.EPSG3857,\n",
       "                    zoom: 4,\n",
       "                    zoomControl: true,\n",
       "                    preferCanvas: false,\n",
       "                }\n",
       "            );\n",
       "\n",
       "            \n",
       "\n",
       "        \n",
       "    \n",
       "            var tile_layer_a323c117501f9e87ecfc4632ee749893 = L.tileLayer(\n",
       "                &quot;https://tile.openstreetmap.org/{z}/{x}/{y}.png&quot;,\n",
       "                {&quot;attribution&quot;: &quot;\\u0026copy; \\u003ca href=\\&quot;https://www.openstreetmap.org/copyright\\&quot;\\u003eOpenStreetMap\\u003c/a\\u003e contributors&quot;, &quot;detectRetina&quot;: false, &quot;maxNativeZoom&quot;: 19, &quot;maxZoom&quot;: 19, &quot;minZoom&quot;: 0, &quot;noWrap&quot;: false, &quot;opacity&quot;: 1, &quot;subdomains&quot;: &quot;abc&quot;, &quot;tms&quot;: false}\n",
       "            );\n",
       "        \n",
       "    \n",
       "            tile_layer_a323c117501f9e87ecfc4632ee749893.addTo(map_536c2979bb0170e53d7d76ea9fca4b49);\n",
       "        \n",
       "&lt;/script&gt;\n",
       "&lt;/html&gt;\" style=\"position:absolute;width:100%;height:100%;left:0;top:0;border:none !important;\" allowfullscreen webkitallowfullscreen mozallowfullscreen></iframe></div></div>"
      ],
      "text/plain": [
       "<folium.folium.Map at 0x11f0349d0>"
      ]
     },
     "execution_count": 54,
     "metadata": {},
     "output_type": "execute_result"
    }
   ],
   "source": [
    "import folium\n",
    "print ('Folium version ' + folium.__version__)\n",
    "\n",
    "world_map = folium.Map(location = [35, 100], zoom_start = 4)\n",
    "for i in range(len(df2)):\n",
    "    location = [float(loc) for loc in df2.Location[i].split(',')]\n",
    "    folium.Marker(location = location, popup = df2.Name[i] + ', age:' + str(df2.Age[i])).add_to(world_map)\n",
    "\n",
    "world_map"
   ]
  },
  {
   "cell_type": "code",
   "execution_count": 55,
   "metadata": {
    "id": "vYQ_XhoF4Na0"
   },
   "outputs": [
    {
     "name": "stdout",
     "output_type": "stream",
     "text": [
      "['admin', 'config', 'local', 'test']\n",
      "['admin', 'config', 'local']\n"
     ]
    }
   ],
   "source": [
    "#Finally drop the databases created in the lab:\n",
    "print(client.list_database_names())\n",
    "client.drop_database('test')\n",
    "client.drop_database('command_test')\n",
    "print(client.list_database_names())"
   ]
  },
  {
   "cell_type": "markdown",
   "metadata": {
    "id": "Sr0Uxfq8B_dD"
   },
   "source": [
    "## HOMEWORK:\n"
   ]
  },
  {
   "cell_type": "markdown",
   "metadata": {
    "id": "82_s5XvcB_dD"
   },
   "source": [
    "1. Read up on how to perform aggregation in mongoDB. Insert a duplicate record into the collection:\n",
    "        mydict = {\"name\": \"Benjamin\", \"address\": \"Green Dr\"}\n",
    "   Now write a command to find docs with a duplicate \"name\" field (using aggregation) and remove them.  \n",
    "   Print the collection."
   ]
  },
  {
   "cell_type": "code",
   "execution_count": 91,
   "metadata": {
    "id": "hnSSNTBuB_dD"
   },
   "outputs": [
    {
     "data": {
      "text/plain": [
       "InsertOneResult(ObjectId('66a99a994b5fd71885b58261'), acknowledged=True)"
      ]
     },
     "execution_count": 91,
     "metadata": {},
     "output_type": "execute_result"
    }
   ],
   "source": [
    "# Insert a duplicate record\n",
    "mydict = {\"name\": \"Benjamin\", \"address\": \"Green Dr\"}\n",
    "collection.insert_one(mydict)\n",
    "# collection.insert_one(mydict)  # Insert the duplicate\n"
   ]
  },
  {
   "cell_type": "code",
   "execution_count": 92,
   "metadata": {},
   "outputs": [],
   "source": [
    "# Use Aggregation to Find Duplicates\n",
    "pipeline = [\n",
    "    {\n",
    "        \"$group\": {\n",
    "            \"_id\": {\"name\": \"$name\"},\n",
    "            \"uniqueIds\": {\"$addToSet\": \"$_id\"},\n",
    "            \"count\": {\"$sum\": 1}\n",
    "        }\n",
    "    },\n",
    "    {\n",
    "        \"$match\": {\n",
    "            \"count\": {\"$gt\": 1}\n",
    "        }\n",
    "    }\n",
    "]\n",
    "duplicates = collection.aggregate(pipeline)"
   ]
  },
  {
   "cell_type": "code",
   "execution_count": 93,
   "metadata": {},
   "outputs": [],
   "source": [
    "# Remove Duplicate Documents\n",
    "for doc in duplicates:\n",
    "    del doc['uniqueIds'][0]  # Keep one document\n",
    "    collection.delete_many({\"_id\": {\"$in\": doc['uniqueIds']}})"
   ]
  },
  {
   "cell_type": "code",
   "execution_count": 94,
   "metadata": {},
   "outputs": [
    {
     "name": "stdout",
     "output_type": "stream",
     "text": [
      "{'_id': ObjectId('66a8c2b1c3cb3738bebe0490'), 'Name': 'Byrd, Dante A.', 'Age': 43, 'Country': 'China', 'Location': '31.2, 121.5'}\n",
      "{'_id': ObjectId('66a99a994b5fd71885b58261'), 'name': 'Benjamin', 'address': 'Green Dr'}\n"
     ]
    }
   ],
   "source": [
    "# Print the collection \n",
    "for doc in collection.find():\n",
    "    print(doc)"
   ]
  },
  {
   "cell_type": "markdown",
   "metadata": {
    "id": "1Ndwie7xB_dE"
   },
   "source": [
    "2. Read up on how to apply indexes in mongoDB. Create an index on the \"name\" and \"address\" fields in this collection.\n",
    "   Print the indexes for the collection."
   ]
  },
  {
   "cell_type": "code",
   "execution_count": 95,
   "metadata": {
    "id": "bFyHLpKyB_dE"
   },
   "outputs": [
    {
     "name": "stdout",
     "output_type": "stream",
     "text": [
      "_id_ {'v': 2, 'key': [('_id', 1)]}\n",
      "name_1 {'v': 2, 'key': [('name', 1)]}\n",
      "address_1 {'v': 2, 'key': [('address', 1)]}\n"
     ]
    }
   ],
   "source": [
    "# Create an index on the \"name\" field\n",
    "index_name = collection.create_index([(\"name\", 1)])\n",
    "\n",
    "# Create an index on the \"address\" field\n",
    "index_address = collection.create_index([(\"address\", 1)])\n",
    "\n",
    "# Here, the 1 indicates that the index is in ascending order\n",
    "\n",
    "# Print the indexes for the collection\n",
    "indexes = collection.index_information()\n",
    "for index in indexes:\n",
    "    print(index, indexes[index])"
   ]
  },
  {
   "cell_type": "markdown",
   "metadata": {
    "id": "Hj8GdoOXC-Lu"
   },
   "source": [
    "\n",
    "\n",
    ">\n",
    ">\n",
    ">\n",
    "\n",
    "\n"
   ]
  },
  {
   "cell_type": "markdown",
   "metadata": {
    "id": "MlasiTKgDGdA"
   },
   "source": [
    "\n",
    "\n",
    "---\n",
    "\n",
    "\n",
    "\n",
    "---\n",
    "\n",
    "\n",
    "\n",
    "> > > > > > > > > © 2024 Institute of Data\n",
    "\n",
    "\n",
    "---\n",
    "\n",
    "\n",
    "\n",
    "---\n",
    "\n",
    "\n",
    "\n"
   ]
  }
 ],
 "metadata": {
  "colab": {
   "provenance": [
    {
     "file_id": "17D0zRG20oX_57CwR4eNwdLhO4Qhlk4Dx",
     "timestamp": 1553134552284
    }
   ]
  },
  "kernelspec": {
   "display_name": "Python 3 (ipykernel)",
   "language": "python",
   "name": "python3"
  },
  "language_info": {
   "codemirror_mode": {
    "name": "ipython",
    "version": 3
   },
   "file_extension": ".py",
   "mimetype": "text/x-python",
   "name": "python",
   "nbconvert_exporter": "python",
   "pygments_lexer": "ipython3",
   "version": "3.11.9"
  }
 },
 "nbformat": 4,
 "nbformat_minor": 4
}
