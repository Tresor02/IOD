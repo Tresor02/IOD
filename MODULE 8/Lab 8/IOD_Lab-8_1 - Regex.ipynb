{
 "cells": [
  {
   "cell_type": "markdown",
   "metadata": {
    "id": "4hbPgptrMKl-"
   },
   "source": [
    "<div>\n",
    "<img src=https://www.institutedata.com/wp-content/uploads/2019/10/iod_h_tp_primary_c.svg width=\"300\">\n",
    "</div>"
   ]
  },
  {
   "cell_type": "markdown",
   "metadata": {
    "id": "5YFCF9NXMKmB"
   },
   "source": [
    "# Lab 8.1: Regular Expressions\n",
    "INSTRUCTIONS:\n",
    "- Read the guides and [hints](https://www.w3schools.com/python/python_regex.asp), then create the necessary analysis and code to find an answer and conclusion for the tasks below.\n",
    "- Complete `IOD Demo-8_2` first"
   ]
  },
  {
   "cell_type": "markdown",
   "metadata": {
    "id": "7HixmqcIMKmF"
   },
   "source": [
    "## 0. Import the necessary libraries\n",
    "\n",
    "Please use Python's built-in package called `re` to work with Regular Expressions."
   ]
  },
  {
   "cell_type": "code",
   "execution_count": 2,
   "metadata": {
    "id": "zvHNnovVcwu0"
   },
   "outputs": [],
   "source": [
    "# Import Libraries\n",
    "import re"
   ]
  },
  {
   "cell_type": "markdown",
   "metadata": {
    "id": "uyj2kaYeMKmI"
   },
   "source": [
    "## 1. Extract the `country code`, `area code` and `local phone number` from the following phone numbers\n",
    "**Hint**: Use groups with `()`. Assume they have the same form as shown."
   ]
  },
  {
   "cell_type": "code",
   "execution_count": 3,
   "metadata": {
    "id": "RyB5pa2iMKmL",
    "scrolled": true
   },
   "outputs": [],
   "source": [
    "phonenumbers = '''+61 (02) 5443 5434\n",
    "+64 (09) 888 7766\n",
    "+1 (655) 432 4345'''\n",
    "\n",
    "desired_output = [\n",
    "    ('61', '02', '5443 5434'),\n",
    "    ('64', '09', '888 7766'),\n",
    "    ('1', '655', '432 4345')\n",
    "]\n",
    "\n",
    "pattern =  r'\\+(\\d+)\\s\\((\\d+)\\)\\s([\\d\\s]+)'\n",
    "\n",
    "output = re.findall(pattern, phonenumbers)\n",
    "\n",
    "# Strip any extra spaces or newlines from the local phone number\n",
    "output = [(country, area, local.strip()) for country, area, local in output]\n",
    "\n",
    "assert output == desired_output, 'Not equal!'\n"
   ]
  },
  {
   "cell_type": "code",
   "execution_count": 4,
   "metadata": {},
   "outputs": [
    {
     "name": "stdout",
     "output_type": "stream",
     "text": [
      "Output: '[('61', '02', '5443 5434'), ('64', '09', '888 7766'), ('1', '655', '432 4345')]'\n",
      "Desired Output: '[('61', '02', '5443 5434'), ('64', '09', '888 7766'), ('1', '655', '432 4345')]'\n",
      "Length of Output: 3\n",
      "Length of Desired Output: 3\n"
     ]
    }
   ],
   "source": [
    "# Print the output and desired_output to compare them\n",
    "print(f\"Output: '{output}'\")\n",
    "print(f\"Desired Output: '{desired_output}'\")\n",
    "\n",
    "# Check the length of both to spot any subtle differences\n",
    "print(f\"Length of Output: {len(output)}\")\n",
    "print(f\"Length of Desired Output: {len(desired_output)}\")"
   ]
  },
  {
   "cell_type": "markdown",
   "metadata": {
    "id": "x5VnTr9ZMKmV"
   },
   "source": [
    "## 2. Retrieve all the email addresses from the following text\n",
    "Assume each email address has the form `id@domain.suffix`."
   ]
  },
  {
   "cell_type": "code",
   "execution_count": 10,
   "metadata": {
    "id": "mL5R80-xMKmX"
   },
   "outputs": [],
   "source": [
    "text = '''Feel free to contact my managers p1@institutedata.com, p_2@domain2.com and p3@institutedata.com\n",
    "for further details.'''\n",
    "\n",
    "desired_output = [\n",
    "    'p1@institutedata.com', 'p_2@domain2.com', 'p3@institutedata.com'\n",
    "]\n",
    "\n",
    "pattern = r'[a-zA-Z0-9._%+-]+@[a-zA-Z0-9.-]+\\.[a-zA-Z]{2,}'\n",
    "\n",
    "output = re.findall(pattern, text)\n",
    "\n",
    "assert output == desired_output, 'Not equal!'"
   ]
  },
  {
   "cell_type": "code",
   "execution_count": 11,
   "metadata": {},
   "outputs": [
    {
     "name": "stdout",
     "output_type": "stream",
     "text": [
      "Output: '['p1@institutedata.com', 'p_2@domain2.com', 'p3@institutedata.com']'\n",
      "Desired Output: '['p1@institutedata.com', 'p_2@domain2.com', 'p3@institutedata.com']'\n",
      "Length of Output: 3\n",
      "Length of Desired Output: 3\n"
     ]
    }
   ],
   "source": [
    "# Print the output and desired_output to compare them\n",
    "print(f\"Output: '{output}'\")\n",
    "print(f\"Desired Output: '{desired_output}'\")\n",
    "\n",
    "# Check the length of both to spot any subtle differences\n",
    "print(f\"Length of Output: {len(output)}\")\n",
    "print(f\"Length of Desired Output: {len(desired_output)}\")"
   ]
  },
  {
   "cell_type": "markdown",
   "metadata": {
    "id": "Dhzd73XzMKmb"
   },
   "source": [
    "## 3. Split the following text into words\n",
    "Add delimiters into the pattern as needed."
   ]
  },
  {
   "cell_type": "code",
   "execution_count": 13,
   "metadata": {
    "id": "RCILkx5rMKmd"
   },
   "outputs": [],
   "source": [
    "text = 'An, unusual   and; poorly formatted_piece of text'\n",
    "\n",
    "desired_output = 'An unusual and poorly formatted piece of text'\n",
    "\n",
    "pattern = r'[,\\s;_]+'\n",
    "\n",
    "output = ' '.join(re.split(pattern, text))\n",
    "\n",
    "assert output == desired_output, 'Not equal!'"
   ]
  },
  {
   "cell_type": "code",
   "execution_count": 14,
   "metadata": {},
   "outputs": [
    {
     "name": "stdout",
     "output_type": "stream",
     "text": [
      "Output: 'An unusual and poorly formatted piece of text'\n",
      "Desired Output: 'An unusual and poorly formatted piece of text'\n",
      "Length of Output: 45\n",
      "Length of Desired Output: 45\n"
     ]
    }
   ],
   "source": [
    "# Print the output and desired_output to compare them\n",
    "print(f\"Output: '{output}'\")\n",
    "print(f\"Desired Output: '{desired_output}'\")\n",
    "\n",
    "# Check the length of both to spot any subtle differences\n",
    "print(f\"Length of Output: {len(output)}\")\n",
    "print(f\"Length of Desired Output: {len(desired_output)}\")"
   ]
  },
  {
   "cell_type": "markdown",
   "metadata": {
    "id": "YJoo9KuFMKmh"
   },
   "source": [
    "## 4. Filter the following tweet so that it contains only the message\n",
    "In other words, remove URLs, RTs, CCs, hashtags, mentions, punctuations."
   ]
  },
  {
   "cell_type": "code",
   "execution_count": 16,
   "metadata": {
    "id": "02JgjxPTMKmi"
   },
   "outputs": [],
   "source": [
    "tweet = 'Hello everyone! RT @MaskedAvenger: Did you see what I got up to earlier? http://abc.me/ref cc: @Mom_Judy #stayfit'\n",
    "\n",
    "desired_output = 'Hello everyone Did you see what I got up to earlier'\n",
    "\n",
    "def clean_tweet(tweet):\n",
    "    tweet = re.sub(r'http\\S+', '', tweet)  # remove URLs\n",
    "    tweet = re.sub(r'\\b(RT|cc)\\b:?', '', tweet)  # remove RT and cc\n",
    "    tweet = re.sub(r'#\\w+', '', tweet)  # remove hashtags\n",
    "    tweet = re.sub(r'@\\w+', '', tweet)  # remove mentions\n",
    "    tweet = re.sub(r'[^\\w\\s]', '', tweet)  # remove punctuations\n",
    "    tweet = re.sub(r'\\s+', ' ', tweet)  # remove extra whitespace\n",
    "    tweet = tweet.strip()  # remove leading and trailing whitespace\n",
    "    return tweet\n",
    "\n",
    "output = clean_tweet(tweet)\n",
    "\n",
    "assert output == desired_output, 'Not equal!'"
   ]
  },
  {
   "cell_type": "code",
   "execution_count": 17,
   "metadata": {},
   "outputs": [
    {
     "name": "stdout",
     "output_type": "stream",
     "text": [
      "Output: 'Hello everyone Did you see what I got up to earlier'\n",
      "Desired Output: 'Hello everyone Did you see what I got up to earlier'\n",
      "Length of Output: 51\n",
      "Length of Desired Output: 51\n"
     ]
    }
   ],
   "source": [
    "# Print the output and desired_output to compare them\n",
    "print(f\"Output: '{output}'\")\n",
    "print(f\"Desired Output: '{desired_output}'\")\n",
    "\n",
    "# Check the length of both to spot any subtle differences\n",
    "print(f\"Length of Output: {len(output)}\")\n",
    "print(f\"Length of Desired Output: {len(desired_output)}\")"
   ]
  },
  {
   "cell_type": "markdown",
   "metadata": {
    "id": "RERADKgNFq9T"
   },
   "source": [
    "\n",
    "\n",
    "---\n",
    "\n",
    "\n",
    "\n",
    "---\n",
    "\n",
    "\n",
    "\n",
    "> > > > > > > > > © 2024 Institute of Data\n",
    "\n",
    "\n",
    "---\n",
    "\n",
    "\n",
    "\n",
    "---\n",
    "\n",
    "\n",
    "\n"
   ]
  }
 ],
 "metadata": {
  "colab": {
   "provenance": []
  },
  "kernelspec": {
   "display_name": "Python 3 (ipykernel)",
   "language": "python",
   "name": "python3"
  },
  "language_info": {
   "codemirror_mode": {
    "name": "ipython",
    "version": 3
   },
   "file_extension": ".py",
   "mimetype": "text/x-python",
   "name": "python",
   "nbconvert_exporter": "python",
   "pygments_lexer": "ipython3",
   "version": "3.11.7"
  }
 },
 "nbformat": 4,
 "nbformat_minor": 1
}
